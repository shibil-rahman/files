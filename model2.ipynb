{
  "metadata": {
    "language_info": {
      "name": ""
    },
    "kernelspec": {
      "name": "python",
      "display_name": "Python (Pyodide)",
      "language": "python"
    }
  },
  "nbformat_minor": 4,
  "nbformat": 4,
  "cells": [
    {
      "cell_type": "code",
      "source": "import pandas as pd\nimport joblib\n\n# Load the new dataset and preprocess it\nnew_data = pd.read_csv(\"5_DATA.csv\")\nnew_data.fillna('', inplace=True)\nX_new_text = new_data.drop(columns=['Unnamed: 0', 'Severity Id'])  # Exclude the output columns if present\nX_new_numerical = new_data[['Severity Id']]\n\n# Load the previously fitted encoder and transform the numerical features of the new data\nencoder = joblib.load(\"encoder.pkl\")\nX_new_numerical_encoded = encoder.transform(X_new_numerical)\n\n# Load the previously fitted TF-IDF vectorizer and transform the text features of the new data\ntfidf_vectorizer = joblib.load(\"tfidf_vectorizer.pkl\")\nX_new_text_tfidf = tfidf_vectorizer.transform(X_new_text['Issue Type Name'] + ' ' + X_new_text['Cause'] + ' ' + X_new_text['Threat Class'] + ' ' + X_new_text['Security Risk'])\n\n# Concatenate text and numerical features for the new data\nX_new_combined = pd.concat([pd.DataFrame(X_new_numerical_encoded.toarray()), pd.DataFrame(X_new_text_tfidf.toarray())], axis=1)\n\n# Load the previously trained classifier\nmultioutput_classifier_tuned = joblib.load(\"multioutput_classifier_tuned.pkl\")\n\n# Use the already trained classifier to predict the outputs for the new data\ny_new_pred = multioutput_classifier_tuned.predict(X_new_combined)\n\n# Get the predictions for Analysis Result and Result columns\ny_new_analysis_result_pred = y_new_pred[:, 0]\ny_new_result_pred = y_new_pred[:, 1]\n\n# Add the predictions to the new_data DataFrame\nnew_data['Analysis Result Prediction'] = y_new_analysis_result_pred\nnew_data['Result Prediction'] = y_new_result_pred\n\n# Save the new_data DataFrame with predictions to a new CSV file\nnew_data.to_csv(\"new_data_with_predictions.csv\", index=False)",
      "metadata": {
        "trusted": true
      },
      "execution_count": null,
      "outputs": []
    },
    {
      "cell_type": "code",
      "source": "",
      "metadata": {},
      "execution_count": null,
      "outputs": []
    }
  ]
}