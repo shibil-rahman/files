{
  "metadata": {
    "language_info": {
      "codemirror_mode": {
        "name": "python",
        "version": 3
      },
      "file_extension": ".py",
      "mimetype": "text/x-python",
      "name": "python",
      "nbconvert_exporter": "python",
      "pygments_lexer": "ipython3",
      "version": "3.8"
    },
    "kernelspec": {
      "name": "python",
      "display_name": "Python (Pyodide)",
      "language": "python"
    }
  },
  "nbformat_minor": 4,
  "nbformat": 4,
  "cells": [
    {
      "cell_type": "code",
      "source": "import pandas as pd\nimport os\nimport json\nimport re\nimport numpy as np\nfrom sklearn.preprocessing import StandardScaler\nfrom sklearn.feature_extraction.text import TfidfVectorizer\nfrom sklearn.preprocessing import RobustScaler",
      "metadata": {
        "trusted": true
      },
      "execution_count": 1,
      "outputs": []
    },
    {
      "cell_type": "code",
      "source": "coloumnlist = [\"Severity Id\",\"Issue Type Name\" ,\"Threat Class\", \"Security Risk\", \"Cause\"]\n",
      "metadata": {
        "trusted": true
      },
      "execution_count": 2,
      "outputs": []
    },
    {
      "cell_type": "code",
      "source": "df = pd.read_csv('Sample_copy.csv')",
      "metadata": {
        "trusted": true
      },
      "execution_count": 3,
      "outputs": []
    },
    {
      "cell_type": "code",
      "source": "df = df[coloumnlist].drop_duplicates().fillna(\"None\").reset_index(drop=True)",
      "metadata": {
        "trusted": true
      },
      "execution_count": 4,
      "outputs": []
    },
    {
      "cell_type": "code",
      "source": "df.to_csv('file1.csv')",
      "metadata": {
        "trusted": true
      },
      "execution_count": 5,
      "outputs": []
    },
    {
      "cell_type": "code",
      "source": "df.isnull().sum()",
      "metadata": {
        "trusted": true
      },
      "execution_count": 6,
      "outputs": [
        {
          "execution_count": 6,
          "output_type": "execute_result",
          "data": {
            "text/plain": "Severity Id        0\nIssue Type Name    0\nThreat Class       0\nSecurity Risk      0\nCause              0\ndtype: int64"
          },
          "metadata": {}
        }
      ]
    },
    {
      "cell_type": "code",
      "source": "datastructure = df.to_dict('dict')\ndatastructure",
      "metadata": {
        "trusted": true
      },
      "execution_count": 8,
      "outputs": [
        {
          "execution_count": 8,
          "output_type": "execute_result",
          "data": {
            "text/plain": "{'Severity Id': {0: 3,\n  1: 3,\n  2: 3,\n  3: 3,\n  4: 3,\n  5: 3,\n  6: 3,\n  7: 3,\n  8: 2,\n  9: 2,\n  10: 2,\n  11: 2,\n  12: 2,\n  13: 2,\n  14: 1,\n  15: 1},\n 'Issue Type Name': {0: 'Authentication.Credentials.Unprotected',\n  1: 'Authentication.Credentials.Unprotected',\n  2: 'Authentication.Credentials.Unprotected',\n  3: 'Authentication.Credentials.Unprotected',\n  4: 'Cross-Site Scripting',\n  5: 'Improper Control of Dynamically-Managed Code Resources',\n  6: 'PrivilegeEscalation',\n  7: 'SQL Injection',\n  8: 'Allocation of Resources Without Limits or Throttling',\n  9: 'Configuration',\n  10: 'Open Redirect',\n  11: 'Reflected Cross Site Scripting',\n  12: 'Unsafe Reflection',\n  13: 'URL Validation Required',\n  14: 'Improper Output Neutralization for Logs',\n  15: 'Missing Encryption of Sensitive Data'},\n 'Threat Class': {0: 'Insufficient Authentication',\n  1: 'Insufficient Authentication',\n  2: 'Insufficient Authentication',\n  3: 'Insufficient Authentication',\n  4: 'Cross-site Scripting',\n  5: 'Malicious Content Tests',\n  6: 'Insufficient Authentication',\n  7: 'SQL Injection',\n  8: 'Denial of Service',\n  9: 'Application Misconfiguration',\n  10: 'URL Redirector Abuse',\n  11: 'Cross-site Scripting',\n  12: 'Malicious Content Tests',\n  13: 'Content Spoofing',\n  14: 'Abuse of Functionality',\n  15: 'Information Leakage'},\n 'Security Risk': {0: \"It may be possible to bypass the web application's authentication mechanism\",\n  1: 'It may be possible to steal user login information such as usernames and passwords that are sent unencrypted',\n  2: 'It may be possible to steal sensitive data such as credit card numbers, social security numbers etc. that are sent unencrypted',\n  3: 'It may be possible to steal user and session information (cookies) that was sent during an encrypted session',\n  4: \"It is possible to execute arbitrary code on the Web application's clients\",\n  5: 'None',\n  6: 'It might be possible to escalate user privileges and gain administrative permissions over the web application',\n  7: 'It is possible to view, modify or delete database entries and tables',\n  8: 'It is possible to prevent the web application from serving other users (denial of service)',\n  9: 'It is possible to gather sensitive information about the web application such as usernames, passwords, machine name and/or sensitive file locations',\n  10: 'It is possible for an attacker to use the web server to attack other sites, which increases his or her anonymity',\n  11: 'It may be possible to steal or manipulate customer session and cookies, which might be used to impersonate a legitimate user, allowing the hacker to view or alter user records, and to perform transactions as that user',\n  12: 'None',\n  13: 'It is possible for an attacker to use the web server to attack other sites, which increases his or her anonymity',\n  14: 'It is possible to mask anomalous activities caused by the attacker',\n  15: 'It is possible to gather sensitive information about the web application such as usernames, passwords, machine name and/or sensitive file locations'},\n 'Cause': {0: 'Insufficient authentication method was used by the application',\n  1: 'Insufficient authentication method was used by the application',\n  2: 'Insufficient authentication method was used by the application',\n  3: 'Insufficient authentication method was used by the application',\n  4: 'Sanitation of hazardous characters was not performed correctly on user input',\n  5: 'A backdoor or a debugging option was left behind by programmers',\n  6: 'Insecure web application programming or configuration',\n  7: 'Sanitation of hazardous characters was not performed correctly on user input',\n  8: 'Proper bounds checking were not performed on incoming parameter values',\n  9: 'Insecure web application programming or configuration',\n  10: \"User input is not checked for the '..' (dot dot) string\",\n  11: 'Sanitation of hazardous characters was not performed correctly on user input',\n  12: 'A backdoor or a debugging option was left behind by programmers',\n  13: \"User input is not checked for the '..' (dot dot) string\",\n  14: 'Proper bounds checking were not performed on incoming parameter values',\n  15: 'Query parameters were passed over SSL, and may contain sensitive information'}}"
          },
          "metadata": {}
        }
      ]
    },
    {
      "cell_type": "code",
      "source": "df.T.to_dict()",
      "metadata": {
        "trusted": true
      },
      "execution_count": 9,
      "outputs": [
        {
          "execution_count": 9,
          "output_type": "execute_result",
          "data": {
            "text/plain": "{0: {'Severity Id': 3,\n  'Issue Type Name': 'Authentication.Credentials.Unprotected',\n  'Threat Class': 'Insufficient Authentication',\n  'Security Risk': \"It may be possible to bypass the web application's authentication mechanism\",\n  'Cause': 'Insufficient authentication method was used by the application'},\n 1: {'Severity Id': 3,\n  'Issue Type Name': 'Authentication.Credentials.Unprotected',\n  'Threat Class': 'Insufficient Authentication',\n  'Security Risk': 'It may be possible to steal user login information such as usernames and passwords that are sent unencrypted',\n  'Cause': 'Insufficient authentication method was used by the application'},\n 2: {'Severity Id': 3,\n  'Issue Type Name': 'Authentication.Credentials.Unprotected',\n  'Threat Class': 'Insufficient Authentication',\n  'Security Risk': 'It may be possible to steal sensitive data such as credit card numbers, social security numbers etc. that are sent unencrypted',\n  'Cause': 'Insufficient authentication method was used by the application'},\n 3: {'Severity Id': 3,\n  'Issue Type Name': 'Authentication.Credentials.Unprotected',\n  'Threat Class': 'Insufficient Authentication',\n  'Security Risk': 'It may be possible to steal user and session information (cookies) that was sent during an encrypted session',\n  'Cause': 'Insufficient authentication method was used by the application'},\n 4: {'Severity Id': 3,\n  'Issue Type Name': 'Cross-Site Scripting',\n  'Threat Class': 'Cross-site Scripting',\n  'Security Risk': \"It is possible to execute arbitrary code on the Web application's clients\",\n  'Cause': 'Sanitation of hazardous characters was not performed correctly on user input'},\n 5: {'Severity Id': 3,\n  'Issue Type Name': 'Improper Control of Dynamically-Managed Code Resources',\n  'Threat Class': 'Malicious Content Tests',\n  'Security Risk': 'None',\n  'Cause': 'A backdoor or a debugging option was left behind by programmers'},\n 6: {'Severity Id': 3,\n  'Issue Type Name': 'PrivilegeEscalation',\n  'Threat Class': 'Insufficient Authentication',\n  'Security Risk': 'It might be possible to escalate user privileges and gain administrative permissions over the web application',\n  'Cause': 'Insecure web application programming or configuration'},\n 7: {'Severity Id': 3,\n  'Issue Type Name': 'SQL Injection',\n  'Threat Class': 'SQL Injection',\n  'Security Risk': 'It is possible to view, modify or delete database entries and tables',\n  'Cause': 'Sanitation of hazardous characters was not performed correctly on user input'},\n 8: {'Severity Id': 2,\n  'Issue Type Name': 'Allocation of Resources Without Limits or Throttling',\n  'Threat Class': 'Denial of Service',\n  'Security Risk': 'It is possible to prevent the web application from serving other users (denial of service)',\n  'Cause': 'Proper bounds checking were not performed on incoming parameter values'},\n 9: {'Severity Id': 2,\n  'Issue Type Name': 'Configuration',\n  'Threat Class': 'Application Misconfiguration',\n  'Security Risk': 'It is possible to gather sensitive information about the web application such as usernames, passwords, machine name and/or sensitive file locations',\n  'Cause': 'Insecure web application programming or configuration'},\n 10: {'Severity Id': 2,\n  'Issue Type Name': 'Open Redirect',\n  'Threat Class': 'URL Redirector Abuse',\n  'Security Risk': 'It is possible for an attacker to use the web server to attack other sites, which increases his or her anonymity',\n  'Cause': \"User input is not checked for the '..' (dot dot) string\"},\n 11: {'Severity Id': 2,\n  'Issue Type Name': 'Reflected Cross Site Scripting',\n  'Threat Class': 'Cross-site Scripting',\n  'Security Risk': 'It may be possible to steal or manipulate customer session and cookies, which might be used to impersonate a legitimate user, allowing the hacker to view or alter user records, and to perform transactions as that user',\n  'Cause': 'Sanitation of hazardous characters was not performed correctly on user input'},\n 12: {'Severity Id': 2,\n  'Issue Type Name': 'Unsafe Reflection',\n  'Threat Class': 'Malicious Content Tests',\n  'Security Risk': 'None',\n  'Cause': 'A backdoor or a debugging option was left behind by programmers'},\n 13: {'Severity Id': 2,\n  'Issue Type Name': 'URL Validation Required',\n  'Threat Class': 'Content Spoofing',\n  'Security Risk': 'It is possible for an attacker to use the web server to attack other sites, which increases his or her anonymity',\n  'Cause': \"User input is not checked for the '..' (dot dot) string\"},\n 14: {'Severity Id': 1,\n  'Issue Type Name': 'Improper Output Neutralization for Logs',\n  'Threat Class': 'Abuse of Functionality',\n  'Security Risk': 'It is possible to mask anomalous activities caused by the attacker',\n  'Cause': 'Proper bounds checking were not performed on incoming parameter values'},\n 15: {'Severity Id': 1,\n  'Issue Type Name': 'Missing Encryption of Sensitive Data',\n  'Threat Class': 'Information Leakage',\n  'Security Risk': 'It is possible to gather sensitive information about the web application such as usernames, passwords, machine name and/or sensitive file locations',\n  'Cause': 'Query parameters were passed over SSL, and may contain sensitive information'}}"
          },
          "metadata": {}
        }
      ]
    },
    {
      "cell_type": "code",
      "source": "df.to_csv('file2.csv')",
      "metadata": {
        "trusted": true
      },
      "execution_count": 10,
      "outputs": []
    },
    {
      "cell_type": "code",
      "source": "df.to_dict('records')",
      "metadata": {
        "trusted": true
      },
      "execution_count": 11,
      "outputs": [
        {
          "execution_count": 11,
          "output_type": "execute_result",
          "data": {
            "text/plain": "[{'Severity Id': 3,\n  'Issue Type Name': 'Authentication.Credentials.Unprotected',\n  'Threat Class': 'Insufficient Authentication',\n  'Security Risk': \"It may be possible to bypass the web application's authentication mechanism\",\n  'Cause': 'Insufficient authentication method was used by the application'},\n {'Severity Id': 3,\n  'Issue Type Name': 'Authentication.Credentials.Unprotected',\n  'Threat Class': 'Insufficient Authentication',\n  'Security Risk': 'It may be possible to steal user login information such as usernames and passwords that are sent unencrypted',\n  'Cause': 'Insufficient authentication method was used by the application'},\n {'Severity Id': 3,\n  'Issue Type Name': 'Authentication.Credentials.Unprotected',\n  'Threat Class': 'Insufficient Authentication',\n  'Security Risk': 'It may be possible to steal sensitive data such as credit card numbers, social security numbers etc. that are sent unencrypted',\n  'Cause': 'Insufficient authentication method was used by the application'},\n {'Severity Id': 3,\n  'Issue Type Name': 'Authentication.Credentials.Unprotected',\n  'Threat Class': 'Insufficient Authentication',\n  'Security Risk': 'It may be possible to steal user and session information (cookies) that was sent during an encrypted session',\n  'Cause': 'Insufficient authentication method was used by the application'},\n {'Severity Id': 3,\n  'Issue Type Name': 'Cross-Site Scripting',\n  'Threat Class': 'Cross-site Scripting',\n  'Security Risk': \"It is possible to execute arbitrary code on the Web application's clients\",\n  'Cause': 'Sanitation of hazardous characters was not performed correctly on user input'},\n {'Severity Id': 3,\n  'Issue Type Name': 'Improper Control of Dynamically-Managed Code Resources',\n  'Threat Class': 'Malicious Content Tests',\n  'Security Risk': 'None',\n  'Cause': 'A backdoor or a debugging option was left behind by programmers'},\n {'Severity Id': 3,\n  'Issue Type Name': 'PrivilegeEscalation',\n  'Threat Class': 'Insufficient Authentication',\n  'Security Risk': 'It might be possible to escalate user privileges and gain administrative permissions over the web application',\n  'Cause': 'Insecure web application programming or configuration'},\n {'Severity Id': 3,\n  'Issue Type Name': 'SQL Injection',\n  'Threat Class': 'SQL Injection',\n  'Security Risk': 'It is possible to view, modify or delete database entries and tables',\n  'Cause': 'Sanitation of hazardous characters was not performed correctly on user input'},\n {'Severity Id': 2,\n  'Issue Type Name': 'Allocation of Resources Without Limits or Throttling',\n  'Threat Class': 'Denial of Service',\n  'Security Risk': 'It is possible to prevent the web application from serving other users (denial of service)',\n  'Cause': 'Proper bounds checking were not performed on incoming parameter values'},\n {'Severity Id': 2,\n  'Issue Type Name': 'Configuration',\n  'Threat Class': 'Application Misconfiguration',\n  'Security Risk': 'It is possible to gather sensitive information about the web application such as usernames, passwords, machine name and/or sensitive file locations',\n  'Cause': 'Insecure web application programming or configuration'},\n {'Severity Id': 2,\n  'Issue Type Name': 'Open Redirect',\n  'Threat Class': 'URL Redirector Abuse',\n  'Security Risk': 'It is possible for an attacker to use the web server to attack other sites, which increases his or her anonymity',\n  'Cause': \"User input is not checked for the '..' (dot dot) string\"},\n {'Severity Id': 2,\n  'Issue Type Name': 'Reflected Cross Site Scripting',\n  'Threat Class': 'Cross-site Scripting',\n  'Security Risk': 'It may be possible to steal or manipulate customer session and cookies, which might be used to impersonate a legitimate user, allowing the hacker to view or alter user records, and to perform transactions as that user',\n  'Cause': 'Sanitation of hazardous characters was not performed correctly on user input'},\n {'Severity Id': 2,\n  'Issue Type Name': 'Unsafe Reflection',\n  'Threat Class': 'Malicious Content Tests',\n  'Security Risk': 'None',\n  'Cause': 'A backdoor or a debugging option was left behind by programmers'},\n {'Severity Id': 2,\n  'Issue Type Name': 'URL Validation Required',\n  'Threat Class': 'Content Spoofing',\n  'Security Risk': 'It is possible for an attacker to use the web server to attack other sites, which increases his or her anonymity',\n  'Cause': \"User input is not checked for the '..' (dot dot) string\"},\n {'Severity Id': 1,\n  'Issue Type Name': 'Improper Output Neutralization for Logs',\n  'Threat Class': 'Abuse of Functionality',\n  'Security Risk': 'It is possible to mask anomalous activities caused by the attacker',\n  'Cause': 'Proper bounds checking were not performed on incoming parameter values'},\n {'Severity Id': 1,\n  'Issue Type Name': 'Missing Encryption of Sensitive Data',\n  'Threat Class': 'Information Leakage',\n  'Security Risk': 'It is possible to gather sensitive information about the web application such as usernames, passwords, machine name and/or sensitive file locations',\n  'Cause': 'Query parameters were passed over SSL, and may contain sensitive information'}]"
          },
          "metadata": {}
        }
      ]
    },
    {
      "cell_type": "code",
      "source": "df.to_csv('file3.csv')",
      "metadata": {
        "trusted": true
      },
      "execution_count": 12,
      "outputs": []
    },
    {
      "cell_type": "code",
      "source": "",
      "metadata": {},
      "execution_count": null,
      "outputs": []
    }
  ]
}